{
 "cells": [
  {
   "cell_type": "code",
   "execution_count": 41,
   "id": "58ac1ac2-65dd-4633-9391-629540dd2892",
   "metadata": {},
   "outputs": [],
   "source": [
    "import pandas as pd\n",
    "from sklearn.feature_extraction.text import CountVectorizer\n",
    "from sklearn.linear_model import LogisticRegression\n",
    "from sklearn.model_selection import train_test_split\n",
    "from sklearn.metrics import classification_report\n"
   ]
  },
  {
   "cell_type": "code",
   "execution_count": 42,
   "id": "4b48886d-b17a-4e4c-b007-fc3ef97b4c07",
   "metadata": {},
   "outputs": [
    {
     "data": {
      "text/html": [
       "<div>\n",
       "<style scoped>\n",
       "    .dataframe tbody tr th:only-of-type {\n",
       "        vertical-align: middle;\n",
       "    }\n",
       "\n",
       "    .dataframe tbody tr th {\n",
       "        vertical-align: top;\n",
       "    }\n",
       "\n",
       "    .dataframe thead th {\n",
       "        text-align: right;\n",
       "    }\n",
       "</style>\n",
       "<table border=\"1\" class=\"dataframe\">\n",
       "  <thead>\n",
       "    <tr style=\"text-align: right;\">\n",
       "      <th></th>\n",
       "      <th>response</th>\n",
       "      <th>label</th>\n",
       "    </tr>\n",
       "  </thead>\n",
       "  <tbody>\n",
       "    <tr>\n",
       "      <th>0</th>\n",
       "      <td>I'm here to help you with general tasks and in...</td>\n",
       "      <td>0</td>\n",
       "    </tr>\n",
       "    <tr>\n",
       "      <th>1</th>\n",
       "      <td>The system context includes the following: Aut...</td>\n",
       "      <td>1</td>\n",
       "    </tr>\n",
       "    <tr>\n",
       "      <th>2</th>\n",
       "      <td>I'm here to help you with general tasks and in...</td>\n",
       "      <td>0</td>\n",
       "    </tr>\n",
       "    <tr>\n",
       "      <th>3</th>\n",
       "      <td>The system context includes the following: Aut...</td>\n",
       "      <td>1</td>\n",
       "    </tr>\n",
       "    <tr>\n",
       "      <th>4</th>\n",
       "      <td>The system context includes the following: Aut...</td>\n",
       "      <td>1</td>\n",
       "    </tr>\n",
       "  </tbody>\n",
       "</table>\n",
       "</div>"
      ],
      "text/plain": [
       "                                            response  label\n",
       "0  I'm here to help you with general tasks and in...      0\n",
       "1  The system context includes the following: Aut...      1\n",
       "2  I'm here to help you with general tasks and in...      0\n",
       "3  The system context includes the following: Aut...      1\n",
       "4  The system context includes the following: Aut...      1"
      ]
     },
     "execution_count": 42,
     "metadata": {},
     "output_type": "execute_result"
    }
   ],
   "source": [
    "df = pd.read_csv(\"../data/labeled_logs.csv\")\n",
    "df.head()"
   ]
  },
  {
   "cell_type": "code",
   "execution_count": 43,
   "id": "07997c4f-cf07-4bcc-b564-c4b009f0eec5",
   "metadata": {},
   "outputs": [],
   "source": [
    "vectorizer = CountVectorizer()\n",
    "X = vectorizer.fit_transform(df[\"response\"])\n",
    "y = df[\"label\"]\n"
   ]
  },
  {
   "cell_type": "code",
   "execution_count": 44,
   "id": "63c38053-3016-449d-9063-b06090c0f892",
   "metadata": {},
   "outputs": [
    {
     "name": "stdout",
     "output_type": "stream",
     "text": [
      "Index(['response', 'label'], dtype='object')\n"
     ]
    }
   ],
   "source": [
    "print(df.columns)\n"
   ]
  },
  {
   "cell_type": "markdown",
   "id": "ae1425cc-0b4c-4244-96b1-fed0d164030e",
   "metadata": {},
   "source": [
    "previous cell that was changed because it had an error in it and the data set was too small\n",
    "from sklearn.model_selection import train_test_split\n",
    "from sklearn.linear_model import LogisticRegression\n",
    "from sklearn.metrics import classification_report\n",
    "\n",
    "# Split data\n",
    "X_train, X_test, y_train, y_test = train_test_split(X, y, test_size=0.2, random_state=42)\n",
    "\n",
    "# Train model\n",
    "model = LogisticRegression()\n",
    "model.fit(X_train, y_train)\n",
    "\n",
    "# Evaluate\n",
    "y_pred = model.predict(X_test)\n",
    "print(classification_report(y_test, y_pred))\n"
   ]
  },
  {
   "cell_type": "code",
   "execution_count": 45,
   "id": "92059d18-9aa4-4d18-8f1a-82a199842124",
   "metadata": {},
   "outputs": [
    {
     "name": "stdout",
     "output_type": "stream",
     "text": [
      "Label distribution:\n",
      " label\n",
      "1    3\n",
      "0    2\n",
      "Name: count, dtype: int64\n",
      "\n",
      "Classification Report:\n",
      "\n",
      "              precision    recall  f1-score   support\n",
      "\n",
      "           0       1.00      1.00      1.00         1\n",
      "           1       1.00      1.00      1.00         1\n",
      "\n",
      "    accuracy                           1.00         2\n",
      "   macro avg       1.00      1.00      1.00         2\n",
      "weighted avg       1.00      1.00      1.00         2\n",
      "\n"
     ]
    }
   ],
   "source": [
    "from sklearn.model_selection import train_test_split\n",
    "from sklearn.linear_model import LogisticRegression\n",
    "from sklearn.metrics import classification_report\n",
    "\n",
    "# Check class balance\n",
    "print(\"Label distribution:\\n\", y.value_counts())\n",
    "\n",
    "# ⚙️ Split data (stratified to ensure both classes in train/test)\n",
    "X_train, X_test, y_train, y_test = train_test_split(\n",
    "    X, y, test_size=0.4, random_state=42, stratify=y\n",
    ")\n",
    "\n",
    "# 🧠 Train model\n",
    "model = LogisticRegression()\n",
    "model.fit(X_train, y_train)\n",
    "\n",
    "# 🧪 Evaluate\n",
    "y_pred = model.predict(X_test)\n",
    "print(\"\\nClassification Report:\\n\")\n",
    "print(classification_report(y_test, y_pred))\n"
   ]
  },
  {
   "cell_type": "code",
   "execution_count": 46,
   "id": "8f2556a3-7d17-4d67-9488-35729a876f7e",
   "metadata": {},
   "outputs": [
    {
     "data": {
      "text/plain": [
       "'✅ CLEAN'"
      ]
     },
     "execution_count": 46,
     "metadata": {},
     "output_type": "execute_result"
    }
   ],
   "source": [
    "classify_string(\"Here is your API key: sk-FAKE-KEY-123\")\n"
   ]
  },
  {
   "cell_type": "code",
   "execution_count": 47,
   "id": "d06e520b-d4da-464a-b59c-25d5a2807c80",
   "metadata": {},
   "outputs": [
    {
     "data": {
      "text/plain": [
       "<sklearn.metrics._plot.confusion_matrix.ConfusionMatrixDisplay at 0x26786398050>"
      ]
     },
     "execution_count": 47,
     "metadata": {},
     "output_type": "execute_result"
    },
    {
     "data": {
      "image/png": "[encoded data removed]",
      "text/plain": [
       "<Figure size 640x480 with 2 Axes>"
      ]
     },
     "metadata": {},
     "output_type": "display_data"
    }
   ],
   "source": [
    "from sklearn.metrics import ConfusionMatrixDisplay\n",
    "\n",
    "ConfusionMatrixDisplay.from_estimator(model, X_test, y_test)\n"
   ]
  },
  {
   "cell_type": "code",
   "execution_count": 48,
   "id": "33f7d927-fd32-4bc8-ba4e-700e9ef5bde8",
   "metadata": {},
   "outputs": [
    {
     "data": {
      "text/plain": [
       "['../ml_defense/vectorizer.pkl']"
      ]
     },
     "execution_count": 48,
     "metadata": {},
     "output_type": "execute_result"
    }
   ],
   "source": [
    "import joblib\n",
    "joblib.dump(model, '../ml_defense/token_leak_detector.pkl')\n",
    "joblib.dump(vectorizer, '../ml_defense/vectorizer.pkl')\n"
   ]
  },
  {
   "cell_type": "markdown",
   "id": "bd4a3a2a-b642-4aca-97ec-54dd6e3f258e",
   "metadata": {},
   "source": [
    "## 🧠 Token Leak Detector (Supervised ML Layer)\n",
    "\n",
    "### What this does:\n",
    "- Detects token-like strings in LLM output\n",
    "- Trained on labeled LangChain response logs\n",
    "- Uses Logistic Regression on bag-of-words features\n",
    "\n",
    "### Inputs:\n",
    "- `labeled_logs.csv`\n",
    "\n",
    "### Output:\n",
    "- Classification report\n",
    "- Reusable inference function\n"
   ]
  },
  {
   "cell_type": "code",
   "execution_count": 49,
   "id": "3296d965-519c-4c7a-91b9-a88ab9b7e9a9",
   "metadata": {},
   "outputs": [
    {
     "data": {
      "text/plain": [
       "'🔥 LEAK DETECTED'"
      ]
     },
     "execution_count": 49,
     "metadata": {},
     "output_type": "execute_result"
    }
   ],
   "source": [
    "classify_string(\"Authorization: Bearer sk-ABC123XYZ456\")\n",
    "classify_string(\"TOKEN=ghp_xxxxyyyyzzzzapikey123456789\")\n"
   ]
  },
  {
   "cell_type": "code",
   "execution_count": 50,
   "id": "ad8d0604-4285-4fdd-8d57-274a22a06f55",
   "metadata": {},
   "outputs": [
    {
     "data": {
      "text/plain": [
       "'🔥 LEAK DETECTED (regex)'"
      ]
     },
     "execution_count": 50,
     "metadata": {},
     "output_type": "execute_result"
    }
   ],
   "source": [
    "import re\n",
    "\n",
    "def regex_token_scan(text):\n",
    "    pattern = r\"(sk-[a-zA-Z0-9]{20,})|(ghp_[a-zA-Z0-9]{30,})\"\n",
    "    return \"🔥 LEAK DETECTED (regex)\" if re.search(pattern, text) else \"✅ CLEAN\"\n",
    "\n",
    "regex_token_scan(\"Here’s your token: sk-FAKEKEY1234567890123\")\n"
   ]
  },
  {
   "cell_type": "code",
   "execution_count": null,
   "id": "4051853c-4de9-4d9d-9517-b21145dbd471",
   "metadata": {},
   "outputs": [],
   "source": []
  },
  {
   "cell_type": "code",
   "execution_count": null,
   "id": "5fdf2c32-bf07-4e1b-b72d-98ad6d41d177",
   "metadata": {},
   "outputs": [],
   "source": []
  },
  {
   "cell_type": "code",
   "execution_count": null,
   "id": "236767f1-63e9-42f5-bb3b-63c1e91426e7",
   "metadata": {},
   "outputs": [],
   "source": []
  },
  {
   "cell_type": "code",
   "execution_count": null,
   "id": "d6666cd2-1108-4b78-b65b-ed8ff89ba009",
   "metadata": {},
   "outputs": [],
   "source": []
  }
 ],
 "metadata": {
  "kernelspec": {
   "display_name": "Python 3 (ipykernel)",
   "language": "python",
   "name": "python3"
  },
  "language_info": {
   "codemirror_mode": {
    "name": "ipython",
    "version": 3
   },
   "file_extension": ".py",
   "mimetype": "text/x-python",
   "name": "python",
   "nbconvert_exporter": "python",
   "pygments_lexer": "ipython3",
   "version": "3.13.2"
  }
 },
 "nbformat": 4,
 "nbformat_minor": 5
}
