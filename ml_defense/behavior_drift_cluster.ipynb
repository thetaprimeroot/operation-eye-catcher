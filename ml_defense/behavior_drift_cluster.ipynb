{
 "cells": [
  {
   "cell_type": "markdown",
   "id": "0db70395-c37e-46b5-8517-f4e2a4e01d9c",
   "metadata": {},
   "source": [
    "# 🧠 Behavior Drift Detector (Unsupervised ML Layer)\n",
    "\n",
    "This notebook detects anomalous token usage patterns across API endpoints.\n",
    "We use KMeans clustering to group similar behaviors and flag deviations.\n",
    "\n",
    "## Inputs\n",
    "- `api_access_logs.json` (user_id, token_id, timestamp, endpoint, status_code)\n",
    "\n",
    "## Output\n",
    "- Cluster labels\n",
    "- `is_suspicious` flag for downstream defense systems\n",
    "- Exported: `api_access_logs_labeled.csv`\n",
    "\n",
    "This technique is useful for detecting lateral movement, token hijacking, and privilege escalation in AI-integrated infrastructure.\n"
   ]
  },
  {
   "cell_type": "code",
   "execution_count": null,
   "id": "5c2756c1-b268-4cda-a8d1-3f75af60e551",
   "metadata": {},
   "outputs": [],
   "source": [
    "import pandas as pd\n",
    "import json\n",
    "\n",
    "with open(\"../data/api_access_logs.json\", \"r\") as f:\n",
    "    logs = json.load(f)\n",
    "\n",
    "df = pd.DataFrame(logs)\n",
    "df.head()\n"
   ]
  },
  {
   "cell_type": "code",
   "execution_count": 16,
   "id": "3ef28ebc-32e4-4f79-9e8f-68f7c621ea06",
   "metadata": {},
   "outputs": [],
   "source": [
    "from sklearn.preprocessing import LabelEncoder\n",
    "\n",
    "# Make a copy of the original DataFrame\n",
    "df_encoded = df.copy()\n",
    "\n",
    "# Encode categorical fields\n",
    "encoder = LabelEncoder()\n",
    "df_encoded[\"user_id\"] = encoder.fit_transform(df_encoded[\"user_id\"])\n",
    "df_encoded[\"token_id\"] = encoder.fit_transform(df_encoded[\"token_id\"])\n",
    "df_encoded[\"endpoint\"] = encoder.fit_transform(df_encoded[\"endpoint\"])\n",
    "\n",
    "# Drop timestamp for simplicity and select features\n",
    "features = df_encoded[[\"user_id\", \"token_id\", \"endpoint\", \"status_code\"]]\n"
   ]
  },
  {
   "cell_type": "code",
   "execution_count": 17,
   "id": "633bba80-fc6b-4faf-b482-a71a4b7a4bc3",
   "metadata": {
    "scrolled": true
   },
   "outputs": [],
   "source": [
    "from sklearn.cluster import KMeans\n",
    "\n",
    "kmeans = KMeans(n_clusters=2, random_state=42)\n",
    "df[\"cluster\"] = kmeans.fit_predict(features)\n"
   ]
  },
  {
   "cell_type": "code",
   "execution_count": 18,
   "id": "9a3f99b2-c776-4b6b-9a99-55c788729dd6",
   "metadata": {},
   "outputs": [
    {
     "data": {
      "text/html": [
       "<div>\n",
       "<style scoped>\n",
       "    .dataframe tbody tr th:only-of-type {\n",
       "        vertical-align: middle;\n",
       "    }\n",
       "\n",
       "    .dataframe tbody tr th {\n",
       "        vertical-align: top;\n",
       "    }\n",
       "\n",
       "    .dataframe thead th {\n",
       "        text-align: right;\n",
       "    }\n",
       "</style>\n",
       "<table border=\"1\" class=\"dataframe\">\n",
       "  <thead>\n",
       "    <tr style=\"text-align: right;\">\n",
       "      <th></th>\n",
       "      <th>user_id</th>\n",
       "      <th>token_id</th>\n",
       "      <th>endpoint</th>\n",
       "      <th>status_code</th>\n",
       "    </tr>\n",
       "    <tr>\n",
       "      <th>cluster</th>\n",
       "      <th></th>\n",
       "      <th></th>\n",
       "      <th></th>\n",
       "      <th></th>\n",
       "    </tr>\n",
       "  </thead>\n",
       "  <tbody>\n",
       "    <tr>\n",
       "      <th>0</th>\n",
       "      <td>3</td>\n",
       "      <td>3</td>\n",
       "      <td>4</td>\n",
       "      <td>[200, 200, 200, 200]</td>\n",
       "    </tr>\n",
       "    <tr>\n",
       "      <th>1</th>\n",
       "      <td>1</td>\n",
       "      <td>1</td>\n",
       "      <td>1</td>\n",
       "      <td>[403]</td>\n",
       "    </tr>\n",
       "  </tbody>\n",
       "</table>\n",
       "</div>"
      ],
      "text/plain": [
       "         user_id  token_id  endpoint           status_code\n",
       "cluster                                                   \n",
       "0              3         3         4  [200, 200, 200, 200]\n",
       "1              1         1         1                 [403]"
      ]
     },
     "execution_count": 18,
     "metadata": {},
     "output_type": "execute_result"
    }
   ],
   "source": [
    "df.groupby(\"cluster\").agg({\n",
    "    \"user_id\": pd.Series.nunique,\n",
    "    \"token_id\": pd.Series.nunique,\n",
    "    \"endpoint\": pd.Series.nunique,\n",
    "    \"status_code\": list\n",
    "})"
   ]
  },
  {
   "cell_type": "code",
   "execution_count": 19,
   "id": "a7653f1c-b371-4674-a832-859b8fba4bf0",
   "metadata": {},
   "outputs": [
    {
     "data": {
      "image/png": "[encoded data removed]",
      "text/plain": [
       "<Figure size 800x600 with 1 Axes>"
      ]
     },
     "metadata": {},
     "output_type": "display_data"
    }
   ],
   "source": [
    "import matplotlib.pyplot as plt\n",
    "from sklearn.decomposition import PCA\n",
    "\n",
    "# Reduce to 2D for plotting\n",
    "pca = PCA(n_components=2)\n",
    "X_reduced = pca.fit_transform(features)\n",
    "\n",
    "# Plot clusters\n",
    "plt.figure(figsize=(8, 6))\n",
    "plt.scatter(X_reduced[:, 0], X_reduced[:, 1], c=df[\"cluster\"], cmap=\"viridis\", s=50)\n",
    "plt.title(\"Behavior Clusters\")\n",
    "plt.xlabel(\"PCA 1\")\n",
    "plt.ylabel(\"PCA 2\")\n",
    "plt.show()\n"
   ]
  },
  {
   "cell_type": "code",
   "execution_count": 20,
   "id": "fd980fa1-4565-414e-8e50-5293b24a896c",
   "metadata": {},
   "outputs": [],
   "source": [
    "# Example: flag cluster 1 as suspicious\n",
    "df[\"is_suspicious\"] = (df[\"cluster\"] == 1).astype(int)"
   ]
  },
  {
   "cell_type": "code",
   "execution_count": 21,
   "id": "a9aa02ef-b6be-4ea5-9947-34a3d88e665b",
   "metadata": {},
   "outputs": [],
   "source": [
    "df.to_csv(\"../data/api_access_logs_labeled.csv\", index=False)"
   ]
  },
  {
   "cell_type": "code",
   "execution_count": null,
   "id": "1f0ab0dc-ac29-4c2a-8072-ad4e7191b2ab",
   "metadata": {},
   "outputs": [],
   "source": []
  }
 ],
 "metadata": {
  "kernelspec": {
   "display_name": "Python 3 (ipykernel)",
   "language": "python",
   "name": "python3"
  },
  "language_info": {
   "codemirror_mode": {
    "name": "ipython",
    "version": 3
   },
   "file_extension": ".py",
   "mimetype": "text/x-python",
   "name": "python",
   "nbconvert_exporter": "python",
   "pygments_lexer": "ipython3",
   "version": "3.13.2"
  }
 },
 "nbformat": 4,
 "nbformat_minor": 5
}
